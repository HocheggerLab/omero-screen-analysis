{
 "cells": [
  {
   "cell_type": "code",
   "execution_count": 34,
   "metadata": {},
   "outputs": [],
   "source": [
    "import pandas as pd\n",
    "import glob\n",
    "import random\n",
    "\n",
    "df = pd.concat(\n",
    "    [\n",
    "        pd.read_csv(df)\n",
    "        for df in glob.glob(\n",
    "            \"/Users/hh65/Library/CloudStorage/OneDrive-UniversityofSussex/PhD Students/Georgios/Experiments/IF data/Merged replicates/Merged_RPEwtP53ko_siRNA_C16orf72_HUWE_tub_p21/RPE_siFigure/data/*.csv\"\n",
    "        )\n",
    "    ]\n",
    ")"
   ]
  },
  {
   "cell_type": "code",
   "execution_count": 35,
   "metadata": {},
   "outputs": [
    {
     "data": {
      "text/plain": [
       "array(['RPE-1_WT', 'RPE-1_P53KO'], dtype=object)"
      ]
     },
     "execution_count": 35,
     "metadata": {},
     "output_type": "execute_result"
    }
   ],
   "source": [
    "df.cell_line.unique()"
   ]
  },
  {
   "cell_type": "code",
   "execution_count": 36,
   "metadata": {},
   "outputs": [
    {
     "data": {
      "text/plain": [
       "470583"
      ]
     },
     "execution_count": 36,
     "metadata": {},
     "output_type": "execute_result"
    }
   ],
   "source": [
    "df1 = df[df[\"cell_line\"] == \"RPE-1_WT\"].copy()\n",
    "len(df)"
   ]
  },
  {
   "cell_type": "code",
   "execution_count": 37,
   "metadata": {},
   "outputs": [
    {
     "name": "stderr",
     "output_type": "stream",
     "text": [
      "/var/folders/mw/j8s_x64j6f58c61nq_2z74sm000xj1/T/ipykernel_83244/3354242217.py:4: DeprecationWarning: DataFrameGroupBy.apply operated on the grouping columns. This behavior is deprecated, and in a future version of pandas the grouping columns will be excluded from the operation. Either pass `include_groups=False` to exclude the groupings or explicitly select the grouping columns after groupby to silence this warning.\n",
      "  df2 = df2.groupby(\"condition\").apply(\n"
     ]
    }
   ],
   "source": [
    "sorted_dfs = []\n",
    "for exp in df1[\"experiment\"].unique():\n",
    "    df2 = df1[df1[\"experiment\"] == exp].copy()\n",
    "    df2 = df2.groupby(\"condition\").apply(\n",
    "        lambda x: x.sample(\n",
    "            n= random.randint(750, 1250), random_state=1\n",
    "        ).reset_index(drop=True)\n",
    "    )\n",
    "    sorted_dfs.append(df2)\n",
    "df_sorted = pd.concat(sorted_dfs)"
   ]
  },
  {
   "cell_type": "code",
   "execution_count": 38,
   "metadata": {},
   "outputs": [
    {
     "data": {
      "text/plain": [
       "8268"
      ]
     },
     "execution_count": 38,
     "metadata": {},
     "output_type": "execute_result"
    }
   ],
   "source": [
    "len(df_sorted)"
   ]
  },
  {
   "cell_type": "code",
   "execution_count": 39,
   "metadata": {},
   "outputs": [
    {
     "data": {
      "text/plain": [
       "array(['C16ORF72', 'C16ORF72_HUWE1', 'C16_HUWE1', 'CCNA2', 'CDK4',\n",
       "       'HUWE1', 'NT', 'SCR'], dtype=object)"
      ]
     },
     "execution_count": 39,
     "metadata": {},
     "output_type": "execute_result"
    }
   ],
   "source": [
    "df_sorted.condition.unique()"
   ]
  },
  {
   "cell_type": "code",
   "execution_count": 40,
   "metadata": {},
   "outputs": [],
   "source": [
    "conditions = [\"NT\", \"CCNA2\", \"CDK4\"]\n",
    "df_sorted = df_sorted[df_sorted[\"condition\"].isin(conditions)]\n",
    "df_sorted.to_csv(\"../example_data_3X.csv\", index=False)"
   ]
  },
  {
   "cell_type": "code",
   "execution_count": 41,
   "metadata": {},
   "outputs": [
    {
     "data": {
      "text/plain": [
       "3132"
      ]
     },
     "execution_count": 41,
     "metadata": {},
     "output_type": "execute_result"
    }
   ],
   "source": [
    "len(df_sorted)"
   ]
  },
  {
   "cell_type": "code",
   "execution_count": null,
   "metadata": {},
   "outputs": [],
   "source": []
  }
 ],
 "metadata": {
  "kernelspec": {
   "display_name": ".venv",
   "language": "python",
   "name": "python3"
  },
  "language_info": {
   "codemirror_mode": {
    "name": "ipython",
    "version": 3
   },
   "file_extension": ".py",
   "mimetype": "text/x-python",
   "name": "python",
   "nbconvert_exporter": "python",
   "pygments_lexer": "ipython3",
   "version": "3.12.7"
  }
 },
 "nbformat": 4,
 "nbformat_minor": 2
}
