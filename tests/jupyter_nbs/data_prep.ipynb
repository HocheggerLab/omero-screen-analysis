{
 "cells": [
  {
   "cell_type": "code",
   "execution_count": 15,
   "metadata": {},
   "outputs": [],
   "source": [
    "import pandas as pd\n",
    "import glob\n",
    "import random\n",
    "\n",
    "df = pd.concat([ pd.read_csv(df) for df in glob.glob(\n",
    "    \"/Users/hh65/Documents/Workspace/Megan_Avelos_data_analysis/avelos_hela_rpe_ifanalysis/*.csv\"\n",
    ")])"
   ]
  },
  {
   "cell_type": "code",
   "execution_count": 16,
   "metadata": {},
   "outputs": [
    {
     "data": {
      "text/plain": [
       "array(['HELA', 'RPE-1'], dtype=object)"
      ]
     },
     "execution_count": 16,
     "metadata": {},
     "output_type": "execute_result"
    }
   ],
   "source": [
    "df.cell_line.unique()"
   ]
  },
  {
   "cell_type": "code",
   "execution_count": 17,
   "metadata": {},
   "outputs": [
    {
     "data": {
      "text/plain": [
       "1578585"
      ]
     },
     "execution_count": 17,
     "metadata": {},
     "output_type": "execute_result"
    }
   ],
   "source": [
    "df1 = df[df[\"cell_line\"] == \"HELA\"].copy()\n",
    "len(df)"
   ]
  },
  {
   "cell_type": "code",
   "execution_count": 18,
   "metadata": {},
   "outputs": [
    {
     "name": "stderr",
     "output_type": "stream",
     "text": [
      "/var/folders/mw/j8s_x64j6f58c61nq_2z74sm000xj1/T/ipykernel_83244/3354242217.py:4: DeprecationWarning: DataFrameGroupBy.apply operated on the grouping columns. This behavior is deprecated, and in a future version of pandas the grouping columns will be excluded from the operation. Either pass `include_groups=False` to exclude the groupings or explicitly select the grouping columns after groupby to silence this warning.\n",
      "  df2 = df2.groupby(\"condition\").apply(\n",
      "/var/folders/mw/j8s_x64j6f58c61nq_2z74sm000xj1/T/ipykernel_83244/3354242217.py:4: DeprecationWarning: DataFrameGroupBy.apply operated on the grouping columns. This behavior is deprecated, and in a future version of pandas the grouping columns will be excluded from the operation. Either pass `include_groups=False` to exclude the groupings or explicitly select the grouping columns after groupby to silence this warning.\n",
      "  df2 = df2.groupby(\"condition\").apply(\n",
      "/var/folders/mw/j8s_x64j6f58c61nq_2z74sm000xj1/T/ipykernel_83244/3354242217.py:4: DeprecationWarning: DataFrameGroupBy.apply operated on the grouping columns. This behavior is deprecated, and in a future version of pandas the grouping columns will be excluded from the operation. Either pass `include_groups=False` to exclude the groupings or explicitly select the grouping columns after groupby to silence this warning.\n",
      "  df2 = df2.groupby(\"condition\").apply(\n"
     ]
    }
   ],
   "source": [
    "sorted_dfs = []\n",
    "for exp in df1[\"experiment\"].unique():\n",
    "    df2 = df1[df1[\"experiment\"] == exp].copy()\n",
    "    df2 = df2.groupby(\"condition\").apply(\n",
    "        lambda x: x.sample(\n",
    "            n= random.randint(750, 1250), random_state=1\n",
    "        ).reset_index(drop=True)\n",
    "    )\n",
    "    sorted_dfs.append(df2)\n",
    "df_sorted = pd.concat(sorted_dfs)"
   ]
  },
  {
   "cell_type": "code",
   "execution_count": 19,
   "metadata": {},
   "outputs": [
    {
     "data": {
      "text/plain": [
       "41539"
      ]
     },
     "execution_count": 19,
     "metadata": {},
     "output_type": "execute_result"
    }
   ],
   "source": [
    "len(df_sorted)"
   ]
  },
  {
   "cell_type": "code",
   "execution_count": 20,
   "metadata": {},
   "outputs": [
    {
     "data": {
      "text/plain": [
       "array(['siB55a 0.01uM', 'siB55a 0.1uM', 'siB55a 0.5uM', 'siB55a 10uM',\n",
       "       'siB55a 1uM', 'siB55a 2uM C604', 'siB55a DMSO', 'siCTL 0.01uM',\n",
       "       'siCTL 0.1uM', 'siCTL 0.5uM', 'siCTL 10uM', 'siCTL 1uM',\n",
       "       'siCTL 2uM C604', 'siCTL DMSO'], dtype=object)"
      ]
     },
     "execution_count": 20,
     "metadata": {},
     "output_type": "execute_result"
    }
   ],
   "source": [
    "df_sorted.condition.unique()"
   ]
  },
  {
   "cell_type": "code",
   "execution_count": 23,
   "metadata": {},
   "outputs": [],
   "source": [
    "conditions = [\"siCTL DMSO\", \"siCTL 0.5uM\", \"siCTL 10uM\"]\n",
    "df_sorted = df_sorted[df_sorted[\"condition\"].isin(conditions)]\n",
    "df_sorted.to_csv(\"example_data_3X.csv\", index=False)"
   ]
  },
  {
   "cell_type": "code",
   "execution_count": 22,
   "metadata": {},
   "outputs": [
    {
     "data": {
      "text/plain": [
       "9532"
      ]
     },
     "execution_count": 22,
     "metadata": {},
     "output_type": "execute_result"
    }
   ],
   "source": [
    "len(df_sorted)"
   ]
  },
  {
   "cell_type": "code",
   "execution_count": null,
   "metadata": {},
   "outputs": [],
   "source": []
  }
 ],
 "metadata": {
  "kernelspec": {
   "display_name": ".venv",
   "language": "python",
   "name": "python3"
  },
  "language_info": {
   "codemirror_mode": {
    "name": "ipython",
    "version": 3
   },
   "file_extension": ".py",
   "mimetype": "text/x-python",
   "name": "python",
   "nbconvert_exporter": "python",
   "pygments_lexer": "ipython3",
   "version": "3.12.7"
  }
 },
 "nbformat": 4,
 "nbformat_minor": 2
}
